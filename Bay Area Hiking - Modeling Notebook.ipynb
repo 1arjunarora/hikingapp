{
 "cells": [
  {
   "cell_type": "markdown",
   "metadata": {},
   "source": [
    "# Bay Area Hiking Trail Recommender\n",
    "\n",
    "### Scope\n",
    "The scope of this notebook is to provide instructions on how to setup the Bay Area Hiking project using the python API\n",
    "\n",
    "### Background\n",
    "Classification - A type of prediction problem that classifies values into discrete, final outcomes or classes. Multiclass classification is a classification problem that results in more than two outcomes (for example, \"buy\", \"sell\", or \"hold\").\n",
    "\n",
    "### Requirements\n",
    "- Python version 3.7.3\n",
    "-  DataRobot API version 2.19.0. Small adjustments might be needed depending on the Python version and DataRobot API version you are using\n",
    "\n",
    "### Key Documentation\n",
    "- Full documentation of the Python package can be found here: https://datarobot-public-api-client.readthedocs-hosted.com\n",
    "- Getting Started - https://datarobot-public-api-client.readthedocs-hosted.com/en/v2.25.0/setup/getting_started.html#installation\n",
    "\n",
    "### You Will Learn How To:\n",
    "1. Connect to the AI Catalog\n",
    "2. Initiate Automl Project to conduct automated feature engineering, model training and testing, and develop a summary of modeling experiments\n",
    "3. Plot Feature Impact/ Analyze Results\n",
    "4. Deploy Model with a few lines of code"
   ]
  },
  {
   "cell_type": "markdown",
   "metadata": {},
   "source": [
    "## ==================================================================="
   ]
  },
  {
   "cell_type": "markdown",
   "metadata": {},
   "source": [
    "#### 1. Import Libraries"
   ]
  },
  {
   "cell_type": "code",
   "execution_count": 1,
   "metadata": {},
   "outputs": [],
   "source": [
    "import datarobot as dr\n",
    "import pandas as pd\n",
    "import numpy as np\n",
    "import matplotlib.pyplot as plt\n",
    "import seaborn as sns"
   ]
  },
  {
   "cell_type": "markdown",
   "metadata": {},
   "source": [
    "#### 2. Define Credentials\n",
    "To make sure only authorized users access the DataRobot API, you need an API token. To get a token, log in to the DataRobot web UI, click your profile icon, and select Developer Tools. API tokens are shown under API Keys, and you can create a new one if needed."
   ]
  },
  {
   "cell_type": "code",
   "execution_count": 2,
   "metadata": {
    "scrolled": true
   },
   "outputs": [
    {
     "data": {
      "text/plain": [
       "<datarobot.rest.RESTClientObject at 0x7f8fa8279850>"
      ]
     },
     "execution_count": 2,
     "metadata": {},
     "output_type": "execute_result"
    }
   ],
   "source": [
    "endpoint = 'https://app.datarobot.com/api/v2'\n",
    "\n",
    "# this can be found in DR UI - under developer tools section in the top right menu - Copy API token\n",
    "api_token = 'API_TOKEN' \n",
    "\n",
    "#setup\n",
    "dr.Client(token=api_token, endpoint=endpoint)"
   ]
  },
  {
   "cell_type": "markdown",
   "metadata": {},
   "source": [
    "#### 3. Import/ Connect to Dataset in AI Catalog"
   ]
  },
  {
   "cell_type": "markdown",
   "metadata": {},
   "source": [
    "To get the dataset ID - Go to AI catalog - click on dataset - access datasetid from info tab\n"
   ]
  },
  {
   "cell_type": "code",
   "execution_count": 4,
   "metadata": {},
   "outputs": [
    {
     "data": {
      "text/plain": [
       "True"
      ]
     },
     "execution_count": 4,
     "metadata": {},
     "output_type": "execute_result"
    }
   ],
   "source": [
    "dataset_id = '6272e862e2be8dea37f96e91'\n",
    "dataset = dr.Dataset.get(dataset_id)\n",
    "dataset.id == dataset_id"
   ]
  },
  {
   "cell_type": "code",
   "execution_count": 5,
   "metadata": {},
   "outputs": [
    {
     "data": {
      "text/plain": [
       "'HikingData.zip'"
      ]
     },
     "execution_count": 5,
     "metadata": {},
     "output_type": "execute_result"
    }
   ],
   "source": [
    "#Check dataset name \n",
    "dataset.name"
   ]
  },
  {
   "cell_type": "markdown",
   "metadata": {},
   "source": [
    "#### 4. Initiate Automl Project to conduct feature engineering, model training and testing, and develop a leaderboard of models \n",
    "(This will be similar to what you see in UI) \n",
    "* project_name: Name of project\n",
    "* target: String with target variable name\n",
    "* you can also provide additional parameters like worker count, partitioning information, etc."
   ]
  },
  {
   "cell_type": "code",
   "execution_count": 6,
   "metadata": {},
   "outputs": [
    {
     "name": "stdout",
     "output_type": "stream",
     "text": [
      "In progress: 8, queued: 0 (waited: 0s)\n",
      "In progress: 8, queued: 0 (waited: 2s)\n",
      "In progress: 8, queued: 0 (waited: 2s)\n",
      "In progress: 8, queued: 0 (waited: 3s)\n",
      "In progress: 8, queued: 0 (waited: 5s)\n",
      "In progress: 8, queued: 0 (waited: 7s)\n",
      "In progress: 8, queued: 0 (waited: 11s)\n",
      "In progress: 8, queued: 0 (waited: 18s)\n",
      "In progress: 7, queued: 0 (waited: 32s)\n",
      "In progress: 5, queued: 0 (waited: 52s)\n",
      "In progress: 4, queued: 0 (waited: 73s)\n",
      "In progress: 1, queued: 0 (waited: 93s)\n",
      "In progress: 7, queued: 9 (waited: 114s)\n",
      "In progress: 8, queued: 8 (waited: 136s)\n",
      "In progress: 8, queued: 8 (waited: 156s)\n",
      "In progress: 8, queued: 8 (waited: 177s)\n",
      "In progress: 8, queued: 7 (waited: 199s)\n",
      "In progress: 6, queued: 4 (waited: 222s)\n",
      "In progress: 8, queued: 1 (waited: 243s)\n",
      "In progress: 7, queued: 0 (waited: 263s)\n",
      "In progress: 1, queued: 0 (waited: 284s)\n",
      "In progress: 1, queued: 0 (waited: 305s)\n",
      "In progress: 1, queued: 0 (waited: 325s)\n",
      "In progress: 0, queued: 0 (waited: 346s)\n",
      "In progress: 0, queued: 0 (waited: 367s)\n",
      "In progress: 0, queued: 0 (waited: 388s)\n",
      "In progress: 5, queued: 0 (waited: 408s)\n",
      "In progress: 5, queued: 0 (waited: 429s)\n",
      "In progress: 5, queued: 0 (waited: 450s)\n",
      "In progress: 5, queued: 0 (waited: 470s)\n",
      "In progress: 2, queued: 0 (waited: 491s)\n",
      "In progress: 1, queued: 0 (waited: 512s)\n",
      "In progress: 1, queued: 0 (waited: 532s)\n",
      "In progress: 1, queued: 0 (waited: 553s)\n",
      "In progress: 1, queued: 0 (waited: 574s)\n",
      "In progress: 1, queued: 0 (waited: 594s)\n",
      "In progress: 1, queued: 0 (waited: 615s)\n",
      "In progress: 1, queued: 0 (waited: 636s)\n",
      "In progress: 1, queued: 0 (waited: 656s)\n",
      "In progress: 1, queued: 0 (waited: 677s)\n",
      "In progress: 1, queued: 0 (waited: 697s)\n",
      "In progress: 1, queued: 0 (waited: 718s)\n",
      "In progress: 1, queued: 0 (waited: 739s)\n",
      "In progress: 1, queued: 0 (waited: 759s)\n",
      "In progress: 1, queued: 0 (waited: 780s)\n",
      "In progress: 1, queued: 0 (waited: 801s)\n",
      "In progress: 1, queued: 0 (waited: 821s)\n",
      "In progress: 1, queued: 0 (waited: 842s)\n",
      "In progress: 0, queued: 0 (waited: 862s)\n",
      "In progress: 0, queued: 0 (waited: 883s)\n",
      "In progress: 0, queued: 0 (waited: 904s)\n",
      "In progress: 0, queued: 0 (waited: 924s)\n",
      "In progress: 0, queued: 0 (waited: 945s)\n",
      "In progress: 0, queued: 0 (waited: 965s)\n",
      "In progress: 0, queued: 0 (waited: 986s)\n"
     ]
    }
   ],
   "source": [
    "from datarobot import AUTOPILOT_MODE\n",
    "\n",
    "project = dataset.create_project(project_name='Hiking-Recommender-PythonAPI') # set project name\n",
    "project.set_target('Hike Name', mode=AUTOPILOT_MODE.QUICK) # set modeling mode\n",
    "project.wait_for_autopilot()\n",
    "\n",
    "# autopilot running - take a coffee break!"
   ]
  },
  {
   "cell_type": "code",
   "execution_count": 7,
   "metadata": {},
   "outputs": [],
   "source": [
    "# For accessing a completed project later on - just add project id here (no need to re run the project again)\n",
    "# Example: id can be found in url https://app.datarobot.com/projects/61c2b29cbc17bf11a702b611/models)\n",
    "\n",
    "project = dr.Project.get(project_id='627a9c5d310bd7e3e689fcf4')"
   ]
  },
  {
   "cell_type": "markdown",
   "metadata": {},
   "source": [
    "#### 5. Pick the best model\n"
   ]
  },
  {
   "cell_type": "code",
   "execution_count": 8,
   "metadata": {},
   "outputs": [
    {
     "name": "stdout",
     "output_type": "stream",
     "text": [
      "Recommended model is Model('Keras Slim Residual Neural Network Classifier using Training Schedule (1 Layer: 64 Units)')\n",
      "Cross Validation Score Of 0.99125\n"
     ]
    }
   ],
   "source": [
    "recommendation = dr.ModelRecommendation.get(project.id) \n",
    "recommended_model = recommendation.get_model()\n",
    "print(f'Recommended model is {recommended_model}')\n",
    "print ('Cross Validation Score Of',recommended_model.metrics['AUC']['crossValidation'])"
   ]
  },
  {
   "cell_type": "markdown",
   "metadata": {},
   "source": [
    "#### 6. Plotting Feature Impact/ Results\n"
   ]
  },
  {
   "cell_type": "code",
   "execution_count": 9,
   "metadata": {},
   "outputs": [],
   "source": [
    "def plot_feature_impact(datarobot_model, title=None):\n",
    "    \"\"\"This function plots feature impact\n",
    "    Input:\n",
    "        datarobot_model: <Datarobot Model object>\n",
    "        title : <string> --> title of graph\n",
    "    \"\"\"\n",
    "    #Get feature impact\n",
    "    feature_impacts = datarobot_model.get_or_request_feature_impact()\n",
    "\n",
    "    #Sort feature impact based on normalised impact\n",
    "    feature_impacts.sort(key=lambda x: x['impactNormalized'], reverse=True)\n",
    "\n",
    "    fi_df = pd.DataFrame(feature_impacts) #Save feature impact in pandas dataframe\n",
    "    fig, ax = plt.subplots(figsize=(14,5))\n",
    "    b = sns.barplot(x=\"featureName\", y=\"impactNormalized\", data=fi_df[0:5], color=\"b\")\n",
    "    b.axes.set_title('Feature Impact' if not title else title,fontsize=20)"
   ]
  },
  {
   "cell_type": "code",
   "execution_count": 10,
   "metadata": {
    "scrolled": true
   },
   "outputs": [
    {
     "data": {
      "image/png": "[encoded data removed]",
      "text/plain": [
       "<Figure size 1008x360 with 1 Axes>"
      ]
     },
     "metadata": {
      "needs_background": "light"
     },
     "output_type": "display_data"
    }
   ],
   "source": [
    "plot_feature_impact(recommended_model)"
   ]
  },
  {
   "cell_type": "markdown",
   "metadata": {},
   "source": [
    "#### 7. Deploying the models\n",
    "- Models are not deployed to the same server used to train models; they are deployed to one or more prediction servers.\n",
    "- Prediction API: Any project can be called with the Prediction API if you have prediction servers. This is a simple REST API. Click on a model in the UI, then \"Deploy Model\" and \"Activate now\". You'll have access to a Python code snippet to help you interact with it. You can also deploy the model through the python API"
   ]
  },
  {
   "cell_type": "code",
   "execution_count": 13,
   "metadata": {},
   "outputs": [],
   "source": [
    "# For creating a new deployment\n",
    "\n",
    "# set server to deploy to\n",
    "prediction_server_id = dr.PredictionServer.list()[1].id \n",
    "\n",
    "# set deployment details\n",
    "deployment = dr.Deployment.create_from_learning_model( \n",
    "    model_id=recommended_model.id, \n",
    "    label='Bay Area Hiking Recommender', \n",
    "    description='Make hiking trail recommendations from some sample scenic images and hike descriptions (and help your friends and family select an appropriate hike this weekend!). Users do not have to convert text, images or field selections into a standardized format before making predictions. The deployment and app takes care of all the data processing, feature engineering, data standardization and integration, and model scoring tasks required to generate a nice output. Enjoy!', \n",
    "    default_prediction_server_id=prediction_server_id\n",
    ")\n"
   ]
  },
  {
   "cell_type": "code",
   "execution_count": 14,
   "metadata": {},
   "outputs": [
    {
     "name": "stdout",
     "output_type": "stream",
     "text": [
      "Deployment created: Deployment(Bay Area Hiking Recommender), deployment id: 6296dc8885308fd094fe3d30\n"
     ]
    }
   ],
   "source": [
    "# to verify deployment was created\n",
    "for d in dr.Deployment.list():\n",
    "    if d.label == 'Bay Area Hiking Recommender':\n",
    "        deployment = d\n",
    "\n",
    "# verify deployment and id\n",
    "print(f'Deployment created: {deployment}, deployment id: {deployment.id}')"
   ]
  },
  {
   "cell_type": "markdown",
   "metadata": {},
   "source": [
    "## =========================================================================="
   ]
  },
  {
   "cell_type": "markdown",
   "metadata": {},
   "source": [
    "#### 8. Making Predictions For Visual AI - Notes\n",
    "\n",
    "- Make Visual AI Predictions Tutorial - https://docs.datarobot.com/en/docs/tutorials/using-the-api/vai-pred.html\n",
    "- Docs - https://docs.datarobot.com/en/docs/modeling/special-workflows/visual-ai/vai-predictions.html. \n",
    "\n",
    "The main methods are: \n",
    "1. UI Based\n",
    "2. Batch for large datasets\n",
    "3. API for real time/small datasets\n",
    "4. Portable Prediction Server (PPS) - This is a DataRobot execution environment for DataRobot model packages (.mlpkg files) distributed as a self-contained Docker image\n"
   ]
  },
  {
   "cell_type": "markdown",
   "metadata": {},
   "source": [
    "## =========================================================================="
   ]
  },
  {
   "cell_type": "markdown",
   "metadata": {},
   "source": [
    "- Author - Arjun Arora - Customer Facing Data Scientist at Datarobot\n",
    "- Dated - May 31, 2022"
   ]
  }
 ],
 "metadata": {
  "kernelspec": {
   "display_name": "Python 3",
   "language": "python",
   "name": "python3"
  },
  "language_info": {
   "codemirror_mode": {
    "name": "ipython",
    "version": 3
   },
   "file_extension": ".py",
   "mimetype": "text/x-python",
   "name": "python",
   "nbconvert_exporter": "python",
   "pygments_lexer": "ipython3",
   "version": "3.8.8"
  }
 },
 "nbformat": 4,
 "nbformat_minor": 2
}
